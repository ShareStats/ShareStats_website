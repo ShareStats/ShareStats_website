{
  "cells": [
    {
      "cell_type": "raw",
      "metadata": {},
      "source": [
        "---\n",
        "title: \"ShareStats\"\n",
        "format: html\n",
        "---"
      ],
      "id": "32f6aafc"
    },
    {
      "cell_type": "markdown",
      "metadata": {},
      "source": [
        "```{js}\n",
        "const moviesForm = document.getElementById(\"movie__searchbox\");\n",
        "// check when the form is submitted\n",
        "moviesForm.addEventListener(\"submit\", (event) => {\n",
        "  const searchBarValue = document.getElementById(\"searchbar\").value;\n",
        "  event.preventDefault();\n",
        "  window.location.href = `items-df.html?value=${searchBarValue}`;\n",
        "});\n",
        "```\n",
        "\n",
        "```{=html}\n",
        " <form action=\"items-df.html\" id=\"movie__searchbox\" class=\"d-flex\">\n",
        "        <input id=\"searchbar\" class=\"form-control me-sm-2\" type=\"search\" placeholder=\"Search\">\n",
        "        <button class=\"btn btn-secondary my-2 my-sm-0\" type=\"submit\">Search</button>\n",
        "      </form>\n",
        "      <a href=\"items-df.qmd\" class=\"btn btn-outline-primary\">Explore the Itembank</a>\n",
        "```"
      ],
      "id": "f5d25809"
    }
  ],
  "metadata": {
    "kernelspec": {
      "display_name": "Python 3",
      "language": "python",
      "name": "python3"
    }
  },
  "nbformat": 4,
  "nbformat_minor": 5
}